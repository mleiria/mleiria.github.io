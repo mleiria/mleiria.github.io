{
 "cells": [
  {
   "cell_type": "code",
   "execution_count": 1,
   "metadata": {},
   "outputs": [],
   "source": [
    "#Álgebra Linear com numpy\n",
    "import numpy as np"
   ]
  },
  {
   "cell_type": "code",
   "execution_count": 44,
   "metadata": {},
   "outputs": [
    {
     "name": "stdout",
     "output_type": "stream",
     "text": [
      " Dimensão de A: (2, 4)\n",
      "[[1 2 3 4]\n",
      " [5 6 7 8]]\n",
      " Dimensão de B: (4, 3)\n",
      "[[ 1  2  3]\n",
      " [ 4  5  6]\n",
      " [ 7  8  9]\n",
      " [10 11 12]]\n"
     ]
    }
   ],
   "source": [
    "#Multiplicar duas matrizes\n",
    "A = np.array([[1, 2, 3, 4],[5, 6, 7, 8]])\n",
    "B = np.array([[1, 2, 3],[4, 5, 6], [7, 8, 9], [10, 11, 12]])\n",
    "print(\" Dimensão de A:\", A.shape) #2 linhas, 4 colunas\n",
    "print(A)\n",
    "print(\" Dimensão de B:\", B.shape) #2 linhas, 4 colunas\n",
    "print(B)"
   ]
  },
  {
   "cell_type": "code",
   "execution_count": 45,
   "metadata": {},
   "outputs": [
    {
     "name": "stdout",
     "output_type": "stream",
     "text": [
      " Dimensão de C: (2, 3)\n",
      "[[ 70  80  90]\n",
      " [158 184 210]]\n"
     ]
    }
   ],
   "source": [
    "#Número de colunas de A = ao número de linhas de B (4). Podemos multiplicar\n",
    "C = np.dot(A, B)\n",
    "print(\" Dimensão de C:\", C.shape) #2 linhas, 3 colunas\n",
    "print(C)"
   ]
  },
  {
   "cell_type": "code",
   "execution_count": 46,
   "metadata": {},
   "outputs": [
    {
     "name": "stdout",
     "output_type": "stream",
     "text": [
      " Dimensão de D: (3, 2)\n",
      "[[ 70 158]\n",
      " [ 80 184]\n",
      " [ 90 210]]\n"
     ]
    }
   ],
   "source": [
    "#Matriz transposta\n",
    "D = C.T\n",
    "print(\" Dimensão de D:\", D.shape) #3 linhas, 2 colunas\n",
    "print(D)"
   ]
  },
  {
   "cell_type": "code",
   "execution_count": 47,
   "metadata": {},
   "outputs": [
    {
     "name": "stdout",
     "output_type": "stream",
     "text": [
      "[[ 70 158]\n",
      " [ 80 184]\n",
      " [ 90 210]]\n",
      "\n",
      "\n",
      "[[ 70 158]\n",
      " [ 80 184]\n",
      " [ 90 210]]\n"
     ]
    }
   ],
   "source": [
    "#Transposta do produto é igual ao produto das transpostas\n",
    "print(np.dot(A,B).T) \n",
    "print(\"\\n\")\n",
    "print(np.dot(B.T, A.T))"
   ]
  },
  {
   "cell_type": "code",
   "execution_count": 48,
   "metadata": {},
   "outputs": [
    {
     "name": "stdout",
     "output_type": "stream",
     "text": [
      "2.0.0\n"
     ]
    }
   ],
   "source": [
    "# Álgebra linear com tensorflow\n",
    "import tensorflow as tf\n",
    "print(tf.__version__)"
   ]
  },
  {
   "cell_type": "code",
   "execution_count": 49,
   "metadata": {},
   "outputs": [
    {
     "name": "stdout",
     "output_type": "stream",
     "text": [
      "tf.Tensor(\n",
      "[[1 2 3 4]\n",
      " [5 6 7 8]], shape=(2, 4), dtype=int32)\n",
      "\n",
      "\n",
      "tf.Tensor(\n",
      "[[ 1  2  3]\n",
      " [ 4  5  6]\n",
      " [ 7  8  9]\n",
      " [10 11 12]], shape=(4, 3), dtype=int32)\n"
     ]
    }
   ],
   "source": [
    "a = tf.constant([1, 2, 3, 4, 5, 6, 7, 8], shape=[2, 4])\n",
    "b = tf.constant([1, 2, 3, 4, 5, 6, 7, 8, 9, 10, 11, 12], shape=[4, 3])\n",
    "print(a)\n",
    "print(\"\\n\")\n",
    "print(b)"
   ]
  },
  {
   "cell_type": "code",
   "execution_count": 50,
   "metadata": {},
   "outputs": [
    {
     "name": "stdout",
     "output_type": "stream",
     "text": [
      "tf.Tensor(\n",
      "[[ 70  80  90]\n",
      " [158 184 210]], shape=(2, 3), dtype=int32)\n"
     ]
    }
   ],
   "source": [
    "c = tf.tensordot(a, b, axes=1)\n",
    "print(c)"
   ]
  },
  {
   "cell_type": "code",
   "execution_count": 51,
   "metadata": {},
   "outputs": [
    {
     "name": "stdout",
     "output_type": "stream",
     "text": [
      "tf.Tensor(\n",
      "[[ 70 158]\n",
      " [ 80 184]\n",
      " [ 90 210]], shape=(3, 2), dtype=int32)\n"
     ]
    }
   ],
   "source": [
    "d = tf.transpose(c)\n",
    "print(d)"
   ]
  },
  {
   "cell_type": "code",
   "execution_count": null,
   "metadata": {},
   "outputs": [],
   "source": []
  }
 ],
 "metadata": {
  "kernelspec": {
   "display_name": "Python [conda env:tf_2_00]",
   "language": "python",
   "name": "conda-env-tf_2_00-py"
  },
  "language_info": {
   "codemirror_mode": {
    "name": "ipython",
    "version": 3
   },
   "file_extension": ".py",
   "mimetype": "text/x-python",
   "name": "python",
   "nbconvert_exporter": "python",
   "pygments_lexer": "ipython3",
   "version": "3.7.6"
  }
 },
 "nbformat": 4,
 "nbformat_minor": 2
}
