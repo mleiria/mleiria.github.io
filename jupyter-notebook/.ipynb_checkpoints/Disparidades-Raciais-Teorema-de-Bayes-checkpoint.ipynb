{
 "cells": [
  {
   "cell_type": "code",
   "execution_count": 42,
   "metadata": {},
   "outputs": [],
   "source": [
    "import pandas as pd"
   ]
  },
  {
   "cell_type": "code",
   "execution_count": 43,
   "metadata": {},
   "outputs": [
    {
     "data": {
      "text/html": [
       "<div>\n",
       "<style scoped>\n",
       "    .dataframe tbody tr th:only-of-type {\n",
       "        vertical-align: middle;\n",
       "    }\n",
       "\n",
       "    .dataframe tbody tr th {\n",
       "        vertical-align: top;\n",
       "    }\n",
       "\n",
       "    .dataframe thead th {\n",
       "        text-align: right;\n",
       "    }\n",
       "</style>\n",
       "<table border=\"1\" class=\"dataframe\">\n",
       "  <thead>\n",
       "    <tr style=\"text-align: right;\">\n",
       "      <th></th>\n",
       "      <th>id</th>\n",
       "      <th>date</th>\n",
       "      <th>description</th>\n",
       "      <th>editor_note</th>\n",
       "      <th>blurb</th>\n",
       "      <th>name</th>\n",
       "      <th>age</th>\n",
       "      <th>gender</th>\n",
       "      <th>race</th>\n",
       "      <th>armed</th>\n",
       "      <th>threat_level_display</th>\n",
       "      <th>city</th>\n",
       "      <th>state</th>\n",
       "      <th>address</th>\n",
       "      <th>lat</th>\n",
       "      <th>lon</th>\n",
       "      <th>is_geocoding_exact</th>\n",
       "      <th>weapon</th>\n",
       "    </tr>\n",
       "  </thead>\n",
       "  <tbody>\n",
       "    <tr>\n",
       "      <th>0</th>\n",
       "      <td>3</td>\n",
       "      <td>2015-01-02</td>\n",
       "      <td>Elliot, who was on medication for depression, ...</td>\n",
       "      <td>NaN</td>\n",
       "      <td>a 53-year-old man of Asian heritage armed with...</td>\n",
       "      <td>Tim Elliot</td>\n",
       "      <td>53.0</td>\n",
       "      <td>M</td>\n",
       "      <td>A</td>\n",
       "      <td>gun</td>\n",
       "      <td>attack</td>\n",
       "      <td>Shelton</td>\n",
       "      <td>WA</td>\n",
       "      <td>600 block of E. Island Lake Drive</td>\n",
       "      <td>47.246826</td>\n",
       "      <td>-123.121592</td>\n",
       "      <td>True</td>\n",
       "      <td>DEADLY</td>\n",
       "    </tr>\n",
       "    <tr>\n",
       "      <th>1</th>\n",
       "      <td>4</td>\n",
       "      <td>2015-01-02</td>\n",
       "      <td>Washington County sheriff's deputies were answ...</td>\n",
       "      <td>NaN</td>\n",
       "      <td>a 47-year-old white man armed with a gun, was ...</td>\n",
       "      <td>Lewis Lee Lembke</td>\n",
       "      <td>47.0</td>\n",
       "      <td>M</td>\n",
       "      <td>W</td>\n",
       "      <td>gun</td>\n",
       "      <td>attack</td>\n",
       "      <td>Aloha</td>\n",
       "      <td>OR</td>\n",
       "      <td>4519 S.W. Masters Loop</td>\n",
       "      <td>45.486199</td>\n",
       "      <td>-122.891281</td>\n",
       "      <td>True</td>\n",
       "      <td>DEADLY</td>\n",
       "    </tr>\n",
       "    <tr>\n",
       "      <th>2</th>\n",
       "      <td>5</td>\n",
       "      <td>2015-01-03</td>\n",
       "      <td>A Wichita police officer, who had been told Qu...</td>\n",
       "      <td>NaN</td>\n",
       "      <td>an unarmed 23-year-old Hispanic man, was shock...</td>\n",
       "      <td>John Paul Quintero</td>\n",
       "      <td>23.0</td>\n",
       "      <td>M</td>\n",
       "      <td>H</td>\n",
       "      <td>unarmed</td>\n",
       "      <td>other</td>\n",
       "      <td>Wichita</td>\n",
       "      <td>KS</td>\n",
       "      <td>500 block of North Oliver</td>\n",
       "      <td>37.694766</td>\n",
       "      <td>-97.280554</td>\n",
       "      <td>True</td>\n",
       "      <td>NaN</td>\n",
       "    </tr>\n",
       "    <tr>\n",
       "      <th>3</th>\n",
       "      <td>8</td>\n",
       "      <td>2015-01-04</td>\n",
       "      <td>Hoffman, who brandished a BB gun at officers i...</td>\n",
       "      <td>NaN</td>\n",
       "      <td>a 32-year-old white man with a toy weapon, was...</td>\n",
       "      <td>Matthew Hoffman</td>\n",
       "      <td>32.0</td>\n",
       "      <td>M</td>\n",
       "      <td>W</td>\n",
       "      <td>toy weapon</td>\n",
       "      <td>attack</td>\n",
       "      <td>San Francisco</td>\n",
       "      <td>CA</td>\n",
       "      <td>630 Valencia Street</td>\n",
       "      <td>37.762910</td>\n",
       "      <td>-122.422001</td>\n",
       "      <td>True</td>\n",
       "      <td>TOY</td>\n",
       "    </tr>\n",
       "    <tr>\n",
       "      <th>4</th>\n",
       "      <td>9</td>\n",
       "      <td>2015-01-04</td>\n",
       "      <td>Evans police officers shot Rodriguez outside a...</td>\n",
       "      <td>NaN</td>\n",
       "      <td>a 39-year-old Hispanic man armed with a nail g...</td>\n",
       "      <td>Michael Rodriguez</td>\n",
       "      <td>39.0</td>\n",
       "      <td>M</td>\n",
       "      <td>H</td>\n",
       "      <td>nail gun</td>\n",
       "      <td>attack</td>\n",
       "      <td>Evans</td>\n",
       "      <td>CO</td>\n",
       "      <td>818 31st Street</td>\n",
       "      <td>40.383937</td>\n",
       "      <td>-104.692261</td>\n",
       "      <td>True</td>\n",
       "      <td>NaN</td>\n",
       "    </tr>\n",
       "  </tbody>\n",
       "</table>\n",
       "</div>"
      ],
      "text/plain": [
       "   id        date                                        description  \\\n",
       "0   3  2015-01-02  Elliot, who was on medication for depression, ...   \n",
       "1   4  2015-01-02  Washington County sheriff's deputies were answ...   \n",
       "2   5  2015-01-03  A Wichita police officer, who had been told Qu...   \n",
       "3   8  2015-01-04  Hoffman, who brandished a BB gun at officers i...   \n",
       "4   9  2015-01-04  Evans police officers shot Rodriguez outside a...   \n",
       "\n",
       "  editor_note                                              blurb  \\\n",
       "0         NaN  a 53-year-old man of Asian heritage armed with...   \n",
       "1         NaN  a 47-year-old white man armed with a gun, was ...   \n",
       "2         NaN  an unarmed 23-year-old Hispanic man, was shock...   \n",
       "3         NaN  a 32-year-old white man with a toy weapon, was...   \n",
       "4         NaN  a 39-year-old Hispanic man armed with a nail g...   \n",
       "\n",
       "                 name   age gender race       armed threat_level_display  \\\n",
       "0          Tim Elliot  53.0      M    A         gun               attack   \n",
       "1    Lewis Lee Lembke  47.0      M    W         gun               attack   \n",
       "2  John Paul Quintero  23.0      M    H     unarmed                other   \n",
       "3     Matthew Hoffman  32.0      M    W  toy weapon               attack   \n",
       "4   Michael Rodriguez  39.0      M    H    nail gun               attack   \n",
       "\n",
       "            city state                            address        lat  \\\n",
       "0        Shelton    WA  600 block of E. Island Lake Drive  47.246826   \n",
       "1          Aloha    OR             4519 S.W. Masters Loop  45.486199   \n",
       "2        Wichita    KS         500 block of North Oliver   37.694766   \n",
       "3  San Francisco    CA                630 Valencia Street  37.762910   \n",
       "4          Evans    CO                   818 31st Street   40.383937   \n",
       "\n",
       "          lon  is_geocoding_exact  weapon  \n",
       "0 -123.121592                True  DEADLY  \n",
       "1 -122.891281                True  DEADLY  \n",
       "2  -97.280554                True     NaN  \n",
       "3 -122.422001                True     TOY  \n",
       "4 -104.692261                True     NaN  "
      ]
     },
     "execution_count": 43,
     "metadata": {},
     "output_type": "execute_result"
    }
   ],
   "source": [
    "df = pd.read_csv('/home/manuel/Elements/Datasets/wapo.csv')\n",
    "df.head()"
   ]
  },
  {
   "cell_type": "code",
   "execution_count": 44,
   "metadata": {},
   "outputs": [
    {
     "data": {
      "text/html": [
       "<div>\n",
       "<style scoped>\n",
       "    .dataframe tbody tr th:only-of-type {\n",
       "        vertical-align: middle;\n",
       "    }\n",
       "\n",
       "    .dataframe tbody tr th {\n",
       "        vertical-align: top;\n",
       "    }\n",
       "\n",
       "    .dataframe thead th {\n",
       "        text-align: right;\n",
       "    }\n",
       "</style>\n",
       "<table border=\"1\" class=\"dataframe\">\n",
       "  <thead>\n",
       "    <tr style=\"text-align: right;\">\n",
       "      <th></th>\n",
       "      <th>id</th>\n",
       "      <th>date</th>\n",
       "      <th>blurb</th>\n",
       "      <th>race</th>\n",
       "      <th>armed</th>\n",
       "      <th>threat_level_display</th>\n",
       "      <th>weapon</th>\n",
       "    </tr>\n",
       "  </thead>\n",
       "  <tbody>\n",
       "    <tr>\n",
       "      <th>0</th>\n",
       "      <td>3</td>\n",
       "      <td>2015-01-02</td>\n",
       "      <td>a 53-year-old man of Asian heritage armed with...</td>\n",
       "      <td>A</td>\n",
       "      <td>gun</td>\n",
       "      <td>attack</td>\n",
       "      <td>DEADLY</td>\n",
       "    </tr>\n",
       "    <tr>\n",
       "      <th>1</th>\n",
       "      <td>4</td>\n",
       "      <td>2015-01-02</td>\n",
       "      <td>a 47-year-old white man armed with a gun, was ...</td>\n",
       "      <td>W</td>\n",
       "      <td>gun</td>\n",
       "      <td>attack</td>\n",
       "      <td>DEADLY</td>\n",
       "    </tr>\n",
       "    <tr>\n",
       "      <th>2</th>\n",
       "      <td>5</td>\n",
       "      <td>2015-01-03</td>\n",
       "      <td>an unarmed 23-year-old Hispanic man, was shock...</td>\n",
       "      <td>H</td>\n",
       "      <td>unarmed</td>\n",
       "      <td>other</td>\n",
       "      <td>NaN</td>\n",
       "    </tr>\n",
       "    <tr>\n",
       "      <th>3</th>\n",
       "      <td>8</td>\n",
       "      <td>2015-01-04</td>\n",
       "      <td>a 32-year-old white man with a toy weapon, was...</td>\n",
       "      <td>W</td>\n",
       "      <td>toy weapon</td>\n",
       "      <td>attack</td>\n",
       "      <td>TOY</td>\n",
       "    </tr>\n",
       "    <tr>\n",
       "      <th>4</th>\n",
       "      <td>9</td>\n",
       "      <td>2015-01-04</td>\n",
       "      <td>a 39-year-old Hispanic man armed with a nail g...</td>\n",
       "      <td>H</td>\n",
       "      <td>nail gun</td>\n",
       "      <td>attack</td>\n",
       "      <td>NaN</td>\n",
       "    </tr>\n",
       "  </tbody>\n",
       "</table>\n",
       "</div>"
      ],
      "text/plain": [
       "   id        date                                              blurb race  \\\n",
       "0   3  2015-01-02  a 53-year-old man of Asian heritage armed with...    A   \n",
       "1   4  2015-01-02  a 47-year-old white man armed with a gun, was ...    W   \n",
       "2   5  2015-01-03  an unarmed 23-year-old Hispanic man, was shock...    H   \n",
       "3   8  2015-01-04  a 32-year-old white man with a toy weapon, was...    W   \n",
       "4   9  2015-01-04  a 39-year-old Hispanic man armed with a nail g...    H   \n",
       "\n",
       "        armed threat_level_display  weapon  \n",
       "0         gun               attack  DEADLY  \n",
       "1         gun               attack  DEADLY  \n",
       "2     unarmed                other     NaN  \n",
       "3  toy weapon               attack     TOY  \n",
       "4    nail gun               attack     NaN  "
      ]
     },
     "execution_count": 44,
     "metadata": {},
     "output_type": "execute_result"
    }
   ],
   "source": [
    "# Há colunas que não iteressam\n",
    "df = df.drop(['description', 'editor_note', 'name', 'age', 'gender', 'city', 'state', 'address', 'lat', 'lon', 'is_geocoding_exact'], axis=1)\n",
    "df.head()"
   ]
  },
  {
   "cell_type": "code",
   "execution_count": 45,
   "metadata": {},
   "outputs": [],
   "source": [
    "# Remover casos onde a raça não está determinada\n",
    "is_race_unk = df['race'] != \"\"\n",
    "df = df[is_race_unk]"
   ]
  },
  {
   "cell_type": "code",
   "execution_count": 46,
   "metadata": {},
   "outputs": [
    {
     "data": {
      "text/plain": [
       "id                      912\n",
       "date                    912\n",
       "blurb                   912\n",
       "race                    867\n",
       "armed                   910\n",
       "threat_level_display    912\n",
       "weapon                  518\n",
       "dtype: int64"
      ]
     },
     "execution_count": 46,
     "metadata": {},
     "output_type": "execute_result"
    }
   ],
   "source": [
    "df.count()\n",
    "# Contabilizamos um total de 867 mortos"
   ]
  },
  {
   "cell_type": "code",
   "execution_count": 47,
   "metadata": {},
   "outputs": [
    {
     "name": "stdout",
     "output_type": "stream",
     "text": [
      "['gun' 'unarmed' 'toy weapon' 'nail gun' 'knife' 'vehicle' 'shovel'\n",
      " 'hammer' 'hatchet' 'undetermined' 'sword' 'machete' 'box cutter'\n",
      " 'metal object' 'screwdriver' 'lawn mower blade' 'flagpole'\n",
      " 'guns and explosives' 'cordless drill' 'crossbow' 'metal pole' 'Taser'\n",
      " 'metal pipe' 'metal hand tool' 'blunt object' 'metal stick'\n",
      " 'sharp object' 'meat cleaver' nan 'carjack' 'chain' \"contractor's level\"\n",
      " 'unknown weapon' 'stapler' 'beer bottle' 'bean-bag gun'\n",
      " 'baseball bat and fireplace poker' 'straight edge razor']\n"
     ]
    }
   ],
   "source": [
    "# Tentar perceber quantos dos mortos estavam desarmados\n",
    "weapons_type = df.armed.unique()\n",
    "print(weapons_type)"
   ]
  },
  {
   "cell_type": "code",
   "execution_count": 48,
   "metadata": {},
   "outputs": [
    {
     "data": {
      "text/plain": [
       "id                      82\n",
       "date                    82\n",
       "blurb                   82\n",
       "race                    82\n",
       "armed                   82\n",
       "threat_level_display    82\n",
       "weapon                   5\n",
       "dtype: int64"
      ]
     },
     "execution_count": 48,
     "metadata": {},
     "output_type": "execute_result"
    }
   ],
   "source": [
    "is_unarmed = df['armed'] == 'unarmed'\n",
    "df_unarmed = df[is_unarmed]\n",
    "df_unarmed.count()"
   ]
  },
  {
   "cell_type": "code",
   "execution_count": 49,
   "metadata": {},
   "outputs": [
    {
     "data": {
      "text/plain": [
       "id                      31\n",
       "date                    31\n",
       "blurb                   31\n",
       "race                    31\n",
       "armed                   31\n",
       "threat_level_display    31\n",
       "weapon                   2\n",
       "dtype: int64"
      ]
     },
     "execution_count": 49,
     "metadata": {},
     "output_type": "execute_result"
    }
   ],
   "source": [
    "# Resumo:\n",
    "# Total de mortes: 867\n",
    "# Total de mortes em indiviuos desarmados: 82\n",
    "# Vamos ver dos desarmados, quantos são negros\n",
    "is_unarmed_and_black = df_unarmed['race'] == \"B\"\n",
    "df_unarmed_and_black = df_unarmed[is_unarmed_and_black]\n",
    "df_unarmed_and_black.count()"
   ]
  },
  {
   "cell_type": "code",
   "execution_count": 50,
   "metadata": {},
   "outputs": [
    {
     "data": {
      "text/plain": [
       "id                      29\n",
       "date                    29\n",
       "blurb                   29\n",
       "race                    29\n",
       "armed                   29\n",
       "threat_level_display    29\n",
       "weapon                   3\n",
       "dtype: int64"
      ]
     },
     "execution_count": 50,
     "metadata": {},
     "output_type": "execute_result"
    }
   ],
   "source": [
    "is_unarmed_and_white = df_unarmed['race'] == \"W\"\n",
    "df_unarmed_and_white = df_unarmed[is_unarmed_and_white]\n",
    "df_unarmed_and_white.count()"
   ]
  },
  {
   "cell_type": "code",
   "execution_count": 51,
   "metadata": {},
   "outputs": [
    {
     "data": {
      "text/plain": [
       "id                      235\n",
       "date                    235\n",
       "blurb                   235\n",
       "race                    235\n",
       "armed                   234\n",
       "threat_level_display    235\n",
       "weapon                  130\n",
       "dtype: int64"
      ]
     },
     "execution_count": 51,
     "metadata": {},
     "output_type": "execute_result"
    }
   ],
   "source": [
    "# Update Resumo:\n",
    "# Total de mortes: 867\n",
    "# Total de mortes em indiviuos desarmados: 82\n",
    "# Total de mortes em indiviudos negros e desarmados: 31\n",
    "\n",
    "# Vamos ver o número total de negros mortos\n",
    "is_black = df['race'] == 'B'\n",
    "df_black_deads = df[is_black]\n",
    "df_black_deads.count()\n"
   ]
  },
  {
   "cell_type": "code",
   "execution_count": 52,
   "metadata": {},
   "outputs": [
    {
     "data": {
      "text/plain": [
       "id                      443\n",
       "date                    443\n",
       "blurb                   443\n",
       "race                    443\n",
       "armed                   442\n",
       "threat_level_display    443\n",
       "weapon                  277\n",
       "dtype: int64"
      ]
     },
     "execution_count": 52,
     "metadata": {},
     "output_type": "execute_result"
    }
   ],
   "source": [
    "# Update Resumo:\n",
    "# Total de mortes: 867\n",
    "# Total de mortes em indiviuos desarmados: 82\n",
    "# Total de mortes em indiviudos negros e desarmados: 31\n",
    "# Total de negros mortos: 235\n",
    "\n",
    "# Vamos ver o número total de negros mortos\n",
    "is_white = df['race'] == 'W'\n",
    "df_white_deads = df[is_white]\n",
    "df_white_deads.count()"
   ]
  },
  {
   "cell_type": "code",
   "execution_count": 53,
   "metadata": {},
   "outputs": [],
   "source": [
    "# Update Resumo:\n",
    "# Total de mortes: 867\n",
    "# Total de mortes em indiviuos desarmados: 82\n",
    "# Total de mortes em indiviudos negros e desarmados: 31\n",
    "# Total de negros mortos: 235\n",
    "# Total de brancos mortos: 443"
   ]
  }
 ],
 "metadata": {
  "kernelspec": {
   "display_name": "Python [conda env:tf_2_00]",
   "language": "python",
   "name": "conda-env-tf_2_00-py"
  },
  "language_info": {
   "codemirror_mode": {
    "name": "ipython",
    "version": 3
   },
   "file_extension": ".py",
   "mimetype": "text/x-python",
   "name": "python",
   "nbconvert_exporter": "python",
   "pygments_lexer": "ipython3",
   "version": "3.7.6"
  }
 },
 "nbformat": 4,
 "nbformat_minor": 2
}
